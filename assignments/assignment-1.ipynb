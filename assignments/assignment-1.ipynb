{
  "cells": [
    {
      "cell_type": "raw",
      "metadata": {},
      "source": [
        "---\n",
        "title: \"Assignment 1\"\n",
        "---"
      ],
      "id": "9e3a6e58"
    },
    {
      "cell_type": "markdown",
      "metadata": {},
      "source": [
        "My first assignment has three parts.\n",
        "\n",
        "## (a) Summarize\n",
        "\n",
        "[The Future of missing data - Nicholas Tierney](https://www.rstudio.com/conference/2022/talks/future-of-missing-data/)\n",
        "\n",
        "During data analysis, encountering missing data is quite common. These missing values can adversely affect the data analysis workflow because you may need to make decisions on how to handle these gaps. Should you fill in missing values, or should you ignore them? Each option has its own consequences, and these decisions impact the data analysis. Often, the data you come across doesn't always come with a research question. Therefore, understanding the reason for the missing values is crucial.\n",
        "\n",
        "To overcome this challenge, two R packages, namely **`{naniar}`** and **`{visdat}`**, have been developed.\n",
        "\n",
        "\"Naniar\" and \"visdat\" are two different R packages used for examining and visualizing missing data. These packages are used to understand the impact of missing data on data analysis processes and to evaluate how to deal with these gaps.\n",
        "\n",
        "**naniar:**\n",
        "\n",
        "-   \"naniar\" is an R package used to better understand and handle missing data.\n",
        "\n",
        "-   This package provides a set of tools and visualization methods for missing data analysis.\n",
        "\n",
        "-   \"naniar\" offers functions to examine how missing values are distributed in a dataset, the relationships between missing values, their impact on statistical model results, and how to impute missing data.\n",
        "\n",
        "-   This package allows you to easily visualize missing data and create graphs to understand the reasons for missing values.\n",
        "\n",
        "**visdat:**\n",
        "\n",
        "-   \"visdat\" is an R package used to visually inspect how missing data appears in a dataset.\n",
        "\n",
        "-   This package helps to see missing data more clearly and is useful for understanding the impact of missing data on data analysis processes.\n",
        "\n",
        "-   \"visdat\" enables you to create graphs that display the distribution of missing data in the dataset, the relationships between missing values across different variables, and how missing data changes over time.\n",
        "\n",
        "-   This package facilitates the visual analysis of missing data and understanding its potential effects on data analysis results.\n",
        "\n",
        "## (b)\n",
        "\n",
        "## (c) \n"
      ],
      "id": "b61c18b1"
    },
    {
      "cell_type": "code",
      "metadata": {},
      "source": [
        "x=list(range(1,4))\n",
        "first_element=x[1]"
      ],
      "id": "d36d7f5f",
      "execution_count": null,
      "outputs": []
    }
  ],
  "metadata": {
    "kernelspec": {
      "display_name": "Python 3",
      "language": "python",
      "name": "python3"
    }
  },
  "nbformat": 4,
  "nbformat_minor": 5
}